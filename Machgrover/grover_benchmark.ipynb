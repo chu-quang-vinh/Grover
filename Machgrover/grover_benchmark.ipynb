{
 "cells": [
  {
   "cell_type": "markdown",
   "id": "ab3b7e9d",
   "metadata": {},
   "source": [
    "Ô 1: Imports và cài đặt (nếu cần)"
   ]
  },
  {
   "cell_type": "code",
   "execution_count": 1,
   "id": "57636741",
   "metadata": {},
   "outputs": [
    {
     "name": "stdout",
     "output_type": "stream",
     "text": [
      "Thư mục làm việc ban đầu (CWD) của kernel: e:\\thang_grover\n",
      "Đã thêm 'e:\\thang_grover' vào sys.path.\n",
      "\n",
      "Thư mục làm việc giả định của dự án (nơi tìm module): e:\\thang_grover\n",
      "Kiểm tra file trong thư mục dự án giả định: ['diffuser.py', 'diffuser_benchmarks.csv', 'grover_benchmark.ipynb', 'grover_builder.py', 'grover_builder_test_scenario1.png', 'grover_builder_test_scenario2.png', 'grover_circuit_benchmarks.csv', 'grover_circuit_benchmarks_optimized.csv', 'output.png', '__pycache__']\n",
      "\n",
      "Các hàm build_diffuser, build_grover_circuit, và create_complex_mock_oracle đã được import thành công.\n"
     ]
    }
   ],
   "source": [
    "# Ô 1: Imports và cài đặt\n",
    "# Cài đặt nếu chạy trên Colab và chưa có (chạy ô này một lần nếu cần)\n",
    "# !pip install qiskit qiskit-aer matplotlib pandas\n",
    "\n",
    "import os\n",
    "import sys\n",
    "import numpy as np\n",
    "from qiskit import QuantumCircuit, transpile\n",
    "from qiskit_aer import AerSimulator # Backend để transpile\n",
    "import matplotlib.pyplot as plt\n",
    "import pandas as pd # Để hiển thị kết quả dạng bảng\n",
    "\n",
    "# --- Xử lý import module cục bộ (quan trọng cho Jupyter Notebook) ---\n",
    "# Đoạn code này giúp notebook tìm thấy các file .py của bạn.\n",
    "# Đảm bảo notebook này nằm trong thư mục \"Thắng-Grover\" cùng với các file .py.\n",
    "print(f\"Thư mục làm việc ban đầu (CWD) của kernel: {os.getcwd()}\")\n",
    "\n",
    "# Cố gắng xác định thư mục gốc của dự án (Thắng-Grover)\n",
    "# và thêm nó vào sys.path nếu cần\n",
    "project_directory = os.getcwd() \n",
    "# Điều chỉnh nếu notebook của bạn nằm trong thư mục con của \"Thắng-Grover\"\n",
    "# Ví dụ, nếu CWD là \"e:\\some_other_folder\" và dự án của bạn ở \"e:\\Thắng-Grover\"\n",
    "# thì bạn cần đặt project_directory = r\"e:\\Thắng-Grover\" (thay r\"...\" bằng đường dẫn đúng)\n",
    "\n",
    "# Kiểm tra xem có đúng là thư mục dự án không bằng cách tìm một file đặc trưng\n",
    "if not (os.path.exists(os.path.join(project_directory, 'diffuser.py')) and \\\n",
    "        os.path.exists(os.path.join(project_directory, 'grover_builder.py'))):\n",
    "    \n",
    "    # Thử tìm ở thư mục cha nếu CWD hiện tại không chứa các file .py\n",
    "    parent_dir = os.path.abspath(os.path.join(project_directory, os.pardir))\n",
    "    if os.path.exists(os.path.join(parent_dir, 'diffuser.py')) and \\\n",
    "       os.path.exists(os.path.join(parent_dir, 'grover_builder.py')):\n",
    "        project_directory = parent_dir\n",
    "        if os.getcwd() != project_directory: # Chỉ đổi CWD nếu nó khác\n",
    "             try:\n",
    "                 os.chdir(project_directory)\n",
    "                 print(f\"Đã đổi CWD sang thư mục dự án: {project_directory}\")\n",
    "             except Exception as e_chdir:\n",
    "                 print(f\"Không thể đổi CWD sang {project_directory}: {e_chdir}\")\n",
    "\n",
    "    else:\n",
    "        print(f\"CẢNH BÁO: Không thể tự động xác định chính xác thư mục dự án 'Thắng-Grover' \"\n",
    "              f\"chứa các file .py từ CWD hiện tại: {os.getcwd()}\")\n",
    "        print(\"Hãy đảm bảo notebook này được chạy từ bên trong thư mục 'Thắng-Grover', \"\n",
    "              \"hoặc bạn đã mở VS Code bằng cách mở thư mục 'Thắng-Grover' làm thư mục gốc.\")\n",
    "\n",
    "# Thêm thư mục dự án (nơi chứa các file .py) vào đầu sys.path\n",
    "if project_directory not in sys.path:\n",
    "    sys.path.insert(0, project_directory)\n",
    "    print(f\"Đã thêm '{project_directory}' vào sys.path.\")\n",
    "# Thêm cả thư mục hiện tại của kernel nếu nó khác và chưa có (dự phòng)\n",
    "current_kernel_cwd = os.getcwd()\n",
    "if current_kernel_cwd != project_directory and current_kernel_cwd not in sys.path:\n",
    "    sys.path.insert(0, current_kernel_cwd)\n",
    "    print(f\"Đã thêm CWD của kernel '{current_kernel_cwd}' vào sys.path.\")\n",
    "\n",
    "print(f\"\\nThư mục làm việc giả định của dự án (nơi tìm module): {project_directory}\")\n",
    "print(f\"Kiểm tra file trong thư mục dự án giả định: {os.listdir(project_directory if os.path.isdir(project_directory) else '.')}\")\n",
    "\n",
    "\n",
    "# Import các hàm bạn đã viết từ .py files\n",
    "try:\n",
    "    from diffuser import build_diffuser \n",
    "    from grover_builder import build_grover_circuit, create_complex_mock_oracle # <<< IMPORT HÀM NÀY\n",
    "    print(\"\\nCác hàm build_diffuser, build_grover_circuit, và create_complex_mock_oracle đã được import thành công.\")\n",
    "except ModuleNotFoundError as e:\n",
    "    print(f\"\\nLỖI IMPORT: {e}\")\n",
    "    print(\"Hãy đảm bảo các file diffuser.py và grover_builder.py nằm trong thư mục làm việc \"\n",
    "          \"mà Python có thể tìm thấy (đã được thêm vào sys.path), \"\n",
    "          \"và bạn đã khởi động lại kernel nếu vừa tạo hoặc di chuyển file.\")\n",
    "except Exception as e_general:\n",
    "    print(f\"\\nLỗi không xác định khi import: {e_general}\")"
   ]
  },
  {
   "cell_type": "markdown",
   "id": "e9a507a5",
   "metadata": {},
   "source": [
    "Ô 3: Thiết lập Backend và Tham số Benchmark"
   ]
  },
  {
   "cell_type": "code",
   "execution_count": 2,
   "id": "537541aa",
   "metadata": {},
   "outputs": [
    {
     "name": "stdout",
     "output_type": "stream",
     "text": [
      "Đã khởi tạo Simulator và các tham số benchmark.\n"
     ]
    }
   ],
   "source": [
    "# Khởi tạo AerSimulator làm backend mục tiêu cho transpile\n",
    "aer_sim = AerSimulator()\n",
    "\n",
    "# Danh sách các giá trị n_qubits (số qubit tìm kiếm) để benchmark\n",
    "n_search_qubits_values = [4, 6, 8, 10] \n",
    "# (Bạn có thể thay đổi danh sách này)\n",
    "\n",
    "# Danh sách để lưu kết quả benchmark\n",
    "grover_benchmark_data = []\n",
    "\n",
    "print(\"Đã khởi tạo Simulator và các tham số benchmark.\")"
   ]
  },
  {
   "cell_type": "markdown",
   "id": "e3e21865",
   "metadata": {},
   "source": [
    "Ô 4: Chạy Benchmark Mạch Grover"
   ]
  },
  {
   "cell_type": "code",
   "execution_count": 3,
   "id": "9c99fc10",
   "metadata": {},
   "outputs": [
    {
     "name": "stdout",
     "output_type": "stream",
     "text": [
      "\n",
      "--- BẮT ĐẦU BENCHMARK MẠCH GROVER (SO SÁNH TỐI ƯU HÓA) ---\n",
      "\n",
      "Benchmarking cho 4 qubit tìm kiếm, Oracle 6 qubit, 3 vòng lặp...\n",
      "  Tạo Mock Oracle để đánh dấu trạng thái: '1010'...\n",
      "  Mock Oracle được tạo với 6 qubits tổng cộng.\n",
      "  Số lần lặp Grover: 3\n",
      "  Xây dựng mạch Grover...\n",
      "  Mạch Grover được xây dựng với 6 qubits tổng cộng.\n",
      "    Độ sâu ban đầu (mạch logic): 40\n",
      "    Số cổng ban đầu: {'x': 48, 'h': 34, 'barrier': 13, 'mcx_recursive': 6, 'z': 3, 'mcx': 3}\n",
      "  Transpiling mạch Grover (optimization_level=0 - Chỉ phân rã)...\n",
      "    Độ sâu (level 0): 349\n",
      "    Số qubit (level 0): 6\n",
      "    Số cổng (level 0): {'h': 142, 'cx': 108, 'u1': 96, 'cu1': 54, 'x': 48, 'u2': 48, 'barrier': 13, 'z': 3, 'mcx': 3}\n",
      "  Transpiling mạch Grover (optimization_level=3 - Tối ưu mạnh)...\n",
      "    Độ sâu (level 3): 253\n",
      "    Số qubit (level 3): 6\n",
      "    Số cổng (level 3): {'cx': 108, 'u2': 72, 'cu1': 54, 'u1': 36, 'h': 16, 'barrier': 13, 'x': 12, 'u3': 3, 'mcx': 3}\n",
      "\n",
      "--- HOÀN THÀNH BENCHMARK SO SÁNH TỐI ƯU HÓA ---\n"
     ]
    }
   ],
   "source": [
    "# Ô 4: Chạy Vòng Lặp Benchmark Mạch Grover (So sánh các mức tối ưu hóa)\n",
    "\n",
    "print(\"\\n--- BẮT ĐẦU BENCHMARK MẠCH GROVER (SO SÁNH TỐI ƯU HÓA) ---\")\n",
    "\n",
    "# Thiết lập cố định cho Kịch bản 2 (ví dụ)\n",
    "n_search_qubits_scenario = 4\n",
    "num_ancillas_for_oracle_scenario = 2\n",
    "target_key_for_oracle_scenario = \"1010\" \n",
    "iterations_scenario = 3 \n",
    "\n",
    "# Làm mới danh sách kết quả\n",
    "grover_benchmark_data = []\n",
    "\n",
    "print(f\"\\nBenchmarking cho {n_search_qubits_scenario} qubit tìm kiếm, Oracle {n_search_qubits_scenario + num_ancillas_for_oracle_scenario} qubit, {iterations_scenario} vòng lặp...\")\n",
    "\n",
    "# 1. Tạo Mock Oracle\n",
    "print(f\"  Tạo Mock Oracle để đánh dấu trạng thái: '{target_key_for_oracle_scenario}'...\")\n",
    "oracle_for_benchmark = create_complex_mock_oracle( # Hoặc create_complex_mock_oracle nếu bạn dùng hàm đó\n",
    "    n_search_qubits=n_search_qubits_scenario, \n",
    "    num_oracle_ancillas=num_ancillas_for_oracle_scenario,\n",
    "    mark_state_str=target_key_for_oracle_scenario\n",
    ")\n",
    "print(f\"  Mock Oracle được tạo với {oracle_for_benchmark.num_qubits} qubits tổng cộng.\")\n",
    "print(f\"  Số lần lặp Grover: {iterations_scenario}\")\n",
    "\n",
    "# 2. Xây dựng mạch Grover hoàn chỉnh\n",
    "print(f\"  Xây dựng mạch Grover...\")\n",
    "grover_circuit_to_benchmark = build_grover_circuit(\n",
    "    n_qubits=n_search_qubits_scenario, \n",
    "    iterations=iterations_scenario, \n",
    "    oracle_circuit=oracle_for_benchmark\n",
    ")\n",
    "initial_depth = grover_circuit_to_benchmark.depth()\n",
    "initial_ops = dict(grover_circuit_to_benchmark.count_ops())\n",
    "print(f\"  Mạch Grover được xây dựng với {grover_circuit_to_benchmark.num_qubits} qubits tổng cộng.\")\n",
    "print(f\"    Độ sâu ban đầu (mạch logic): {initial_depth}\")\n",
    "print(f\"    Số cổng ban đầu: {initial_ops}\")\n",
    "\n",
    "# 3. Transpile với optimization_level=0 (Chủ yếu phân rã)\n",
    "print(\"  Transpiling mạch Grover (optimization_level=0 - Chỉ phân rã)...\")\n",
    "try:\n",
    "    transpiled_qc_level_0 = transpile(grover_circuit_to_benchmark, backend=aer_sim, optimization_level=0)\n",
    "    depth_level_0 = transpiled_qc_level_0.depth()\n",
    "    ops_level_0 = dict(transpiled_qc_level_0.count_ops())\n",
    "    num_qubits_level_0 = transpiled_qc_level_0.num_qubits\n",
    "    print(f\"    Độ sâu (level 0): {depth_level_0}\")\n",
    "    print(f\"    Số qubit (level 0): {num_qubits_level_0}\")\n",
    "    print(f\"    Số cổng (level 0): {ops_level_0}\")\n",
    "except Exception as e:\n",
    "    print(f\"    LỖI khi transpile (level 0): {e}\")\n",
    "    depth_level_0 = 'Error_L0'\n",
    "    ops_level_0 = {'Error_L0': 1}\n",
    "    num_qubits_level_0 = grover_circuit_to_benchmark.num_qubits\n",
    "\n",
    "\n",
    "# 4. Transpile với optimization_level=3 (Tối ưu hóa mạnh)\n",
    "print(\"  Transpiling mạch Grover (optimization_level=3 - Tối ưu mạnh)...\")\n",
    "try:\n",
    "    transpiled_qc_level_3 = transpile(grover_circuit_to_benchmark, backend=aer_sim, optimization_level=3)\n",
    "    depth_level_3 = transpiled_qc_level_3.depth()\n",
    "    ops_level_3 = dict(transpiled_qc_level_3.count_ops())\n",
    "    num_qubits_level_3 = transpiled_qc_level_3.num_qubits\n",
    "    print(f\"    Độ sâu (level 3): {depth_level_3}\")\n",
    "    print(f\"    Số qubit (level 3): {num_qubits_level_3}\")\n",
    "    print(f\"    Số cổng (level 3): {ops_level_3}\")\n",
    "except Exception as e:\n",
    "    print(f\"    LỖI khi transpile (level 3): {e}\")\n",
    "    depth_level_3 = 'Error_L3'\n",
    "    ops_level_3 = {'Error_L3': 1}\n",
    "    num_qubits_level_3 = grover_circuit_to_benchmark.num_qubits\n",
    "    \n",
    "# Lưu kết quả\n",
    "grover_benchmark_data.append({\n",
    "    'scenario': f'Kịch bản ({n_search_qubits_scenario}s+{num_ancillas_for_oracle_scenario}a)',\n",
    "    'n_search_qubits': n_search_qubits_scenario,\n",
    "    'oracle_total_qubits': oracle_for_benchmark.num_qubits,\n",
    "    'grover_iterations': iterations_scenario,\n",
    "    'initial_depth': initial_depth,\n",
    "    'initial_ops_sum': sum(initial_ops.values()), # Tổng số cổng ban đầu\n",
    "    'depth_level_0': depth_level_0,\n",
    "    'ops_sum_level_0': sum(ops_level_0.values()) if isinstance(depth_level_0, int) else 'N/A',\n",
    "    'depth_level_3': depth_level_3,\n",
    "    'ops_sum_level_3': sum(ops_level_3.values()) if isinstance(depth_level_3, int) else 'N/A',\n",
    "    'num_qubits_final': num_qubits_level_3 if isinstance(depth_level_3, int) else num_qubits_level_0\n",
    "})\n",
    "\n",
    "print(\"\\n--- HOÀN THÀNH BENCHMARK SO SÁNH TỐI ƯU HÓA ---\")"
   ]
  },
  {
   "cell_type": "markdown",
   "id": "c081ee79",
   "metadata": {},
   "source": []
  },
  {
   "cell_type": "markdown",
   "id": "62a82426",
   "metadata": {},
   "source": [
    "Ô 5: Hiển thị Kết quả Benchmark (Dạng bảng)"
   ]
  },
  {
   "cell_type": "code",
   "execution_count": 4,
   "id": "37f0669a",
   "metadata": {},
   "outputs": [
    {
     "name": "stdout",
     "output_type": "stream",
     "text": [
      "\n",
      "--- KẾT QUẢ BENCHMARK MẠCH GROVER (SO SÁNH TỐI ƯU HÓA) ---\n",
      "   n_search_qubits  grover_iterations  oracle_total_qubits  initial_depth  \\\n",
      "0                4                  3                    6             40   \n",
      "\n",
      "   initial_ops_sum  depth_level_0  ops_sum_level_0  depth_level_3  \\\n",
      "0              107            349              515            253   \n",
      "\n",
      "   ops_sum_level_3  num_qubits_final  \n",
      "0              317                 6  \n",
      "\n",
      "Đã lưu kết quả benchmark mạch Grover vào file: grover_circuit_benchmarks_optimized.csv\n"
     ]
    }
   ],
   "source": [
    "# Ô 5: Hiển thị Kết quả Benchmark (Dạng bảng) - Sửa đổi\n",
    "if grover_benchmark_data:\n",
    "    df_grover_results = pd.DataFrame(grover_benchmark_data)\n",
    "    print(\"\\n--- KẾT QUẢ BENCHMARK MẠCH GROVER (SO SÁNH TỐI ƯU HÓA) ---\")\n",
    "    \n",
    "    columns_to_display = [\n",
    "        'n_search_qubits', \n",
    "        'grover_iterations',\n",
    "        'oracle_total_qubits',\n",
    "        'initial_depth', \n",
    "        'initial_ops_sum',\n",
    "        'depth_level_0',      # Độ sâu sau khi chỉ phân rã\n",
    "        'ops_sum_level_0',    # Tổng cổng sau khi chỉ phân rã\n",
    "        'depth_level_3',      # Độ sâu sau khi tối ưu mạnh\n",
    "        'ops_sum_level_3',    # Tổng cổng sau khi tối ưu mạnh\n",
    "        'num_qubits_final'\n",
    "    ]\n",
    "    # Đảm bảo chỉ chọn các cột thực sự có trong DataFrame\n",
    "    existing_columns_to_display = [col for col in columns_to_display if col in df_grover_results.columns]\n",
    "\n",
    "    print(df_grover_results[existing_columns_to_display])\n",
    "    \n",
    "    csv_filename_grover = \"grover_circuit_benchmarks_optimized.csv\" # Đổi tên file nếu muốn\n",
    "    try:\n",
    "        df_grover_results.to_csv(csv_filename_grover, index=False)\n",
    "        print(f\"\\nĐã lưu kết quả benchmark mạch Grover vào file: {csv_filename_grover}\")\n",
    "    except Exception as e:\n",
    "        print(f\"Lỗi khi lưu file CSV: {e}\")\n",
    "else:\n",
    "    print(\"\\nKhông có dữ liệu benchmark mạch Grover để hiển thị hoặc lưu.\")"
   ]
  },
  {
   "cell_type": "code",
   "execution_count": 5,
   "id": "38f45fa7",
   "metadata": {},
   "outputs": [
    {
     "name": "stdout",
     "output_type": "stream",
     "text": [
      "[{'scenario': 'Kịch bản (4s+2a)', 'n_search_qubits': 4, 'oracle_total_qubits': 6, 'grover_iterations': 3, 'initial_depth': 40, 'initial_ops_sum': 107, 'depth_level_0': 349, 'ops_sum_level_0': 515, 'depth_level_3': 253, 'ops_sum_level_3': 317, 'num_qubits_final': 6}]\n"
     ]
    }
   ],
   "source": [
    "print(grover_benchmark_data)"
   ]
  },
  {
   "cell_type": "markdown",
   "id": "de88939f",
   "metadata": {},
   "source": [
    "Ô 6: Vẽ Biểu đồ"
   ]
  },
  {
   "cell_type": "code",
   "execution_count": 6,
   "id": "2a800042",
   "metadata": {},
   "outputs": [
    {
     "data": {
      "image/png": "[encoded data removed]",
      "text/plain": [
       "<Figure size 1000x700 with 1 Axes>"
      ]
     },
     "metadata": {},
     "output_type": "display_data"
    },
    {
     "name": "stdout",
     "output_type": "stream",
     "text": [
      "\n",
      "--- Thông tin chi tiết về số cổng ---\n",
      "  Số qubit tìm kiếm: 4\n",
      "  Tổng số cổng ban đầu (Initial Ops Sum): 107\n",
      "  Tổng số cổng (Level 0 Ops Sum): 515\n",
      "  Tổng số cổng (Level 3 Ops Sum): 317\n",
      "  Tổng số qubit sau transpile (Final Qubits): 6\n"
     ]
    }
   ],
   "source": [
    "# Ô 6: Vẽ Biểu đồ và Hiển thị Thông tin Chi tiết (Đã sửa lỗi kiểm tra kiểu)\n",
    "\n",
    "import pandas as pd # Đảm bảo pandas đã được import\n",
    "import matplotlib.pyplot as plt # Đảm bảo matplotlib.pyplot đã được import\n",
    "import numbers # Import module numbers để kiểm tra kiểu số một cách tổng quát\n",
    "\n",
    "if grover_benchmark_data:\n",
    "    df_plot_grover = pd.DataFrame(grover_benchmark_data)\n",
    "\n",
    "    if not df_plot_grover.empty:\n",
    "        # Lấy dòng dữ liệu đầu tiên (hoặc duy nhất nếu chỉ có một kịch bản benchmark)\n",
    "        data_point = df_plot_grover.iloc[0]\n",
    "\n",
    "        # --- Các dòng gỡ lỗi (bạn có thể bỏ chú thích để kiểm tra) ---\n",
    "        # print(f\"DEBUG: Toàn bộ data_point:\\n{data_point.to_dict()}\")\n",
    "        # print(f\"DEBUG: Giá trị initial_depth: {data_point.get('initial_depth')}, Kiểu: {type(data_point.get('initial_depth'))}\")\n",
    "        # print(f\"DEBUG: Giá trị depth_level_0: {data_point.get('depth_level_0')}, Kiểu: {type(data_point.get('depth_level_0'))}\")\n",
    "        # print(f\"DEBUG: Giá trị depth_level_3: {data_point.get('depth_level_3')}, Kiểu: {type(data_point.get('depth_level_3'))}\")\n",
    "        # --- Kết thúc các dòng gỡ lỗi ---\n",
    "\n",
    "        metrics_names = ['Initial Depth', 'Depth (Level 0)', 'Depth (Level 3)']\n",
    "        depth_values = [\n",
    "            data_point.get('initial_depth'), # Không cần giá trị mặc định 0 ở đây nếu ta kiểm tra kỹ sau\n",
    "            data_point.get('depth_level_0'),\n",
    "            data_point.get('depth_level_3')\n",
    "        ]\n",
    "\n",
    "        valid_metrics = []\n",
    "        valid_depths = []\n",
    "        for name, depth in zip(metrics_names, depth_values):\n",
    "            # Sửa đổi điều kiện kiểm tra kiểu để bao gồm các kiểu số của NumPy\n",
    "            if depth is not None and isinstance(depth, numbers.Number):\n",
    "                valid_metrics.append(name)\n",
    "                valid_depths.append(float(depth)) # Chuyển sang float để đảm bảo tính nhất quán cho vẽ biểu đồ\n",
    "            else:\n",
    "                print(f\"Cảnh báo: Giá trị '{name}' (giá trị: {depth}, kiểu: {type(depth)}) không phải là kiểu số hợp lệ và sẽ được bỏ qua.\")\n",
    "\n",
    "\n",
    "        if valid_depths:\n",
    "            plt.figure(figsize=(10, 7)) # Tăng kích thước một chút để dễ nhìn hơn\n",
    "            bars = plt.bar(valid_metrics, valid_depths, color=['skyblue', 'lightcoral', 'lightgreen'])\n",
    "            plt.ylabel(\"Độ Sâu Mạch (Circuit Depth)\")\n",
    "            title_str = f\"So sánh Độ sâu Mạch Grover\"\n",
    "            if 'n_search_qubits' in data_point and isinstance(data_point['n_search_qubits'], numbers.Number):\n",
    "                title_str += f\" cho {int(data_point['n_search_qubits'])} Qubit Tìm Kiếm\"\n",
    "            plt.title(title_str)\n",
    "            plt.grid(axis='y', linestyle='--', alpha=0.7)\n",
    "\n",
    "            # Thêm giá trị trên mỗi cột\n",
    "            for bar in bars:\n",
    "                yval = bar.get_height()\n",
    "                plt.text(bar.get_x() + bar.get_width()/2.0,\n",
    "                         yval + 0.01 * (max(valid_depths) if valid_depths else 0), # Điều chỉnh offset một chút\n",
    "                         f\"{yval:.0f}\" if yval.is_integer() else f\"{yval:.2f}\", # Format số\n",
    "                         ha='center', va='bottom', fontsize=9)\n",
    "\n",
    "            plt.xticks(rotation=15, ha=\"right\") # Nghiêng nhãn trục x nếu dài\n",
    "            plt.tight_layout() # Tự động điều chỉnh bố cục\n",
    "            plt.show()\n",
    "        else:\n",
    "            print(\"\\nKhông có đủ dữ liệu độ sâu hợp lệ (dưới dạng số) để vẽ biểu đồ cột.\")\n",
    "\n",
    "        # In thông tin chi tiết về số cổng\n",
    "        print(\"\\n--- Thông tin chi tiết về số cổng ---\")\n",
    "        if 'n_search_qubits' in data_point:\n",
    "             print(f\"  Số qubit tìm kiếm: {data_point.get('n_search_qubits')}\")\n",
    "        if 'initial_ops_sum' in data_point:\n",
    "            print(f\"  Tổng số cổng ban đầu (Initial Ops Sum): {data_point.get('initial_ops_sum')}\")\n",
    "        if 'ops_sum_level_0' in data_point:\n",
    "            print(f\"  Tổng số cổng (Level 0 Ops Sum): {data_point.get('ops_sum_level_0')}\")\n",
    "        if 'ops_sum_level_3' in data_point:\n",
    "            print(f\"  Tổng số cổng (Level 3 Ops Sum): {data_point.get('ops_sum_level_3')}\")\n",
    "        if 'num_qubits_final' in data_point:\n",
    "            print(f\"  Tổng số qubit sau transpile (Final Qubits): {data_point.get('num_qubits_final')}\")\n",
    "\n",
    "    else:\n",
    "        print(\"\\nDataFrame benchmark rỗng, không có dữ liệu để vẽ hoặc hiển thị.\")\n",
    "else:\n",
    "    print(\"\\nKhông có dữ liệu benchmark (`grover_benchmark_data` rỗng) để xử lý.\")"
   ]
  }
 ],
 "metadata": {
  "kernelspec": {
   "display_name": "Python 3",
   "language": "python",
   "name": "python3"
  },
  "language_info": {
   "codemirror_mode": {
    "name": "ipython",
    "version": 3
   },
   "file_extension": ".py",
   "mimetype": "text/x-python",
   "name": "python",
   "nbconvert_exporter": "python",
   "pygments_lexer": "ipython3",
   "version": "3.12.4"
  }
 },
 "nbformat": 4,
 "nbformat_minor": 5
}
