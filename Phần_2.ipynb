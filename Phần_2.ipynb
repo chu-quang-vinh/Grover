{
  "nbformat": 4,
  "nbformat_minor": 0,
  "metadata": {
    "colab": {
      "provenance": [],
      "toc_visible": true
    },
    "kernelspec": {
      "name": "python3",
      "display_name": "Python 3"
    },
    "language_info": {
      "name": "python"
    }
  },
  "cells": [
    {
      "cell_type": "code",
      "source": [
        "!pip install qiskit\n"
      ],
      "metadata": {
        "colab": {
          "base_uri": "https://localhost:8080/"
        },
        "id": "T-eFxQoScrpX",
        "outputId": "e40e30bc-fde2-4fc3-9287-5b4433d40bf1"
      },
      "execution_count": 4,
      "outputs": [
        {
          "output_type": "stream",
          "name": "stdout",
          "text": [
            "Collecting qiskit\n",
            "  Downloading qiskit-2.0.1-cp39-abi3-manylinux_2_17_x86_64.manylinux2014_x86_64.whl.metadata (12 kB)\n",
            "Collecting rustworkx>=0.15.0 (from qiskit)\n",
            "  Downloading rustworkx-0.16.0-cp39-abi3-manylinux_2_17_x86_64.manylinux2014_x86_64.whl.metadata (10 kB)\n",
            "Requirement already satisfied: numpy<3,>=1.17 in /usr/local/lib/python3.11/dist-packages (from qiskit) (2.0.2)\n",
            "Requirement already satisfied: scipy>=1.5 in /usr/local/lib/python3.11/dist-packages (from qiskit) (1.15.3)\n",
            "Requirement already satisfied: sympy>=1.3 in /usr/local/lib/python3.11/dist-packages (from qiskit) (1.13.1)\n",
            "Requirement already satisfied: dill>=0.3 in /usr/local/lib/python3.11/dist-packages (from qiskit) (0.3.7)\n",
            "Requirement already satisfied: python-dateutil>=2.8.0 in /usr/local/lib/python3.11/dist-packages (from qiskit) (2.9.0.post0)\n",
            "Collecting stevedore>=3.0.0 (from qiskit)\n",
            "  Downloading stevedore-5.4.1-py3-none-any.whl.metadata (2.3 kB)\n",
            "Requirement already satisfied: typing-extensions in /usr/local/lib/python3.11/dist-packages (from qiskit) (4.13.2)\n",
            "Collecting symengine<0.14,>=0.11 (from qiskit)\n",
            "  Downloading symengine-0.13.0-cp311-cp311-manylinux_2_17_x86_64.manylinux2014_x86_64.whl.metadata (1.2 kB)\n",
            "Requirement already satisfied: six>=1.5 in /usr/local/lib/python3.11/dist-packages (from python-dateutil>=2.8.0->qiskit) (1.17.0)\n",
            "Collecting pbr>=2.0.0 (from stevedore>=3.0.0->qiskit)\n",
            "  Downloading pbr-6.1.1-py2.py3-none-any.whl.metadata (3.4 kB)\n",
            "Requirement already satisfied: mpmath<1.4,>=1.1.0 in /usr/local/lib/python3.11/dist-packages (from sympy>=1.3->qiskit) (1.3.0)\n",
            "Requirement already satisfied: setuptools in /usr/local/lib/python3.11/dist-packages (from pbr>=2.0.0->stevedore>=3.0.0->qiskit) (75.2.0)\n",
            "Downloading qiskit-2.0.1-cp39-abi3-manylinux_2_17_x86_64.manylinux2014_x86_64.whl (6.5 MB)\n",
            "\u001b[2K   \u001b[90m━━━━━━━━━━━━━━━━━━━━━━━━━━━━━━━━━━━━━━━━\u001b[0m \u001b[32m6.5/6.5 MB\u001b[0m \u001b[31m77.2 MB/s\u001b[0m eta \u001b[36m0:00:00\u001b[0m\n",
            "\u001b[?25hDownloading rustworkx-0.16.0-cp39-abi3-manylinux_2_17_x86_64.manylinux2014_x86_64.whl (2.1 MB)\n",
            "\u001b[2K   \u001b[90m━━━━━━━━━━━━━━━━━━━━━━━━━━━━━━━━━━━━━━━━\u001b[0m \u001b[32m2.1/2.1 MB\u001b[0m \u001b[31m78.2 MB/s\u001b[0m eta \u001b[36m0:00:00\u001b[0m\n",
            "\u001b[?25hDownloading stevedore-5.4.1-py3-none-any.whl (49 kB)\n",
            "\u001b[2K   \u001b[90m━━━━━━━━━━━━━━━━━━━━━━━━━━━━━━━━━━━━━━━━\u001b[0m \u001b[32m49.5/49.5 kB\u001b[0m \u001b[31m3.3 MB/s\u001b[0m eta \u001b[36m0:00:00\u001b[0m\n",
            "\u001b[?25hDownloading symengine-0.13.0-cp311-cp311-manylinux_2_17_x86_64.manylinux2014_x86_64.whl (49.7 MB)\n",
            "\u001b[2K   \u001b[90m━━━━━━━━━━━━━━━━━━━━━━━━━━━━━━━━━━━━━━━━\u001b[0m \u001b[32m49.7/49.7 MB\u001b[0m \u001b[31m18.2 MB/s\u001b[0m eta \u001b[36m0:00:00\u001b[0m\n",
            "\u001b[?25hDownloading pbr-6.1.1-py2.py3-none-any.whl (108 kB)\n",
            "\u001b[2K   \u001b[90m━━━━━━━━━━━━━━━━━━━━━━━━━━━━━━━━━━━━━━━━\u001b[0m \u001b[32m109.0/109.0 kB\u001b[0m \u001b[31m7.2 MB/s\u001b[0m eta \u001b[36m0:00:00\u001b[0m\n",
            "\u001b[?25hInstalling collected packages: symengine, rustworkx, pbr, stevedore, qiskit\n",
            "Successfully installed pbr-6.1.1 qiskit-2.0.1 rustworkx-0.16.0 stevedore-5.4.1 symengine-0.13.0\n"
          ]
        }
      ]
    },
    {
      "cell_type": "code",
      "execution_count": 5,
      "metadata": {
        "colab": {
          "base_uri": "https://localhost:8080/"
        },
        "id": "DxIkbpor29H1",
        "outputId": "8b2fa24b-db6f-4629-93ce-ed3b43e288f2"
      },
      "outputs": [
        {
          "output_type": "stream",
          "name": "stdout",
          "text": [
            "Overwriting sdes.py\n"
          ]
        }
      ],
      "source": [
        "# -*- coding: utf-8 -*-\n",
        "%%writefile sdes.py\n",
        "import itertools\n",
        "\n",
        "# --- Các bảng hoán vị và S-Box cố định ---\n",
        "P10 = (3, 5, 2, 7, 4, 10, 1, 9, 8, 6)\n",
        "P8 = (6, 3, 7, 4, 8, 5, 10, 9)\n",
        "P4 = (2, 4, 3, 1)\n",
        "\n",
        "IP = (2, 6, 3, 1, 4, 8, 5, 7)\n",
        "IP_inv = (4, 1, 3, 5, 7, 2, 8, 6) # Hoán vị ngược của IP\n",
        "\n",
        "EP = (4, 1, 2, 3, 2, 3, 4, 1) # Bảng mở rộng/hoán vị E/P\n",
        "\n",
        "S0 = [[1, 0, 3, 2],\n",
        "      [3, 2, 1, 0],\n",
        "      [0, 2, 1, 3],\n",
        "      [3, 1, 3, 2]]\n",
        "\n",
        "S1 = [[0, 1, 2, 3],\n",
        "      [2, 0, 1, 3],\n",
        "      [3, 0, 1, 0],\n",
        "      [2, 1, 0, 3]]\n",
        "\n",
        "# --- Các hàm trợ giúp ---\n",
        "def permute(k, p):\n",
        "  \"\"\"Áp dụng hoán vị p cho chuỗi bit k.\"\"\"\n",
        "  return \"\".join(k[i-1] for i in p)\n",
        "\n",
        "def left_shift(k, n=1):\n",
        "  \"\"\"Dịch trái chuỗi bit k đi n vị trí.\"\"\"\n",
        "  L = k[:5]\n",
        "  R = k[5:]\n",
        "  L_shifted = L[n:] + L[:n]\n",
        "  R_shifted = R[n:] + R[:n]\n",
        "  return L_shifted + R_shifted\n",
        "\n",
        "def xor(a, b):\n",
        "  \"\"\"Thực hiện phép XOR trên hai chuỗi bit.\"\"\"\n",
        "  return \"\".join(str(int(x) ^ int(y)) for x, y in zip(a, b))\n",
        "\n",
        "def bits_to_int(bits):\n",
        "    \"\"\"Chuyển chuỗi bit thành số nguyên.\"\"\"\n",
        "    return int(bits, 2)\n",
        "\n",
        "def int_to_bits(n, length):\n",
        "    \"\"\"Chuyển số nguyên thành chuỗi bit có độ dài length.\"\"\"\n",
        "    return format(n, f'0{length}b')\n",
        "\n",
        "# --- Các hàm chính của S-DES ---\n",
        "def generate_keys(key_10bit):\n",
        "  \"\"\"Tạo hai khóa con K1 và K2 từ khóa 10-bit ban đầu.\"\"\"\n",
        "  if len(key_10bit) != 10:\n",
        "    raise ValueError(\"Khóa phải có độ dài 10 bit\")\n",
        "  # 1. Áp dụng P10\n",
        "  p10_key = permute(key_10bit, P10)\n",
        "  # 2. Dịch trái 1 bit (LS-1) cho mỗi nửa\n",
        "  ls1_key = left_shift(p10_key, 1)\n",
        "  # 3. Áp dụng P8 để tạo K1\n",
        "  K1 = permute(ls1_key, P8)\n",
        "  # 4. Dịch trái 2 bit (LS-2) từ kết quả LS-1\n",
        "  ls2_key = left_shift(ls1_key, 2)\n",
        "  # 5. Áp dụng P8 để tạo K2\n",
        "  K2 = permute(ls2_key, P8)\n",
        "  return K1, K2\n",
        "\n",
        "def sbox_lookup(bits, sbox):\n",
        "  \"\"\"Tra cứu giá trị trong S-Box.\"\"\"\n",
        "  row = bits_to_int(bits[0] + bits[3])\n",
        "  col = bits_to_int(bits[1] + bits[2])\n",
        "  val = sbox[row][col]\n",
        "  return int_to_bits(val, 2) # Trả về chuỗi 2 bit\n",
        "\n",
        "def function_fk(bits_8, subkey_8):\n",
        "  \"\"\"Hàm f_k(L, R, SK) = P4(S0(L_sbox) || S1(R_sbox))\n",
        "     trong đó L_sbox và R_sbox là kết quả XOR của E/P(R) với SK.\"\"\"\n",
        "  # Tách lấy nửa phải (4 bit)\n",
        "  R = bits_8[4:]\n",
        "  # 1. Mở rộng/hoán vị E/P\n",
        "  ep_result = permute(R, EP)\n",
        "  # 2. XOR với khóa con\n",
        "  xor_result = xor(ep_result, subkey_8)\n",
        "  # 3. Chia thành 2 nửa cho S-Box\n",
        "  left_sbox_input = xor_result[:4]\n",
        "  right_sbox_input = xor_result[4:]\n",
        "  # 4. Tra cứu S-Box\n",
        "  s0_output = sbox_lookup(left_sbox_input, S0)\n",
        "  s1_output = sbox_lookup(right_sbox_input, S1)\n",
        "  # 5. Kết hợp kết quả S-Box\n",
        "  sbox_combined = s0_output + s1_output\n",
        "  # 6. Áp dụng hoán vị P4\n",
        "  p4_result = permute(sbox_combined, P4)\n",
        "  return p4_result\n",
        "\n",
        "def encrypt(plaintext_8bit, key_10bit):\n",
        "  \"\"\"Mã hóa plaintext 8-bit bằng S-DES.\"\"\"\n",
        "  if len(plaintext_8bit) != 8:\n",
        "      raise ValueError(\"Plaintext phải có độ dài 8 bit\")\n",
        "\n",
        "  K1, K2 = generate_keys(key_10bit)\n",
        "\n",
        "  # 1. Hoán vị ban đầu (IP)\n",
        "  ip_result = permute(plaintext_8bit, IP)\n",
        "  L0, R0 = ip_result[:4], ip_result[4:]\n",
        "\n",
        "  # --- Vòng 1 ---\n",
        "  # 2. Áp dụng hàm f_k với K1\n",
        "  fk_result1 = function_fk(ip_result, K1)\n",
        "  # 3. XOR kết quả f_k với nửa trái (L0)\n",
        "  L1 = xor(L0, fk_result1)\n",
        "  R1 = R0 # Nửa phải giữ nguyên\n",
        "\n",
        "  # --- Switch (SW) ---\n",
        "  # 4. Đảo nửa trái và nửa phải\n",
        "  L2, R2 = R1, L1 # Lưu ý: bây giờ là R1, L1\n",
        "\n",
        "  # --- Vòng 2 ---\n",
        "  # 5. Áp dụng hàm f_k với K2\n",
        "  #    Đầu vào cho fk bây giờ là (L2 || R2) = (R1 || L1)\n",
        "  fk_input2 = L2 + R2\n",
        "  fk_result2 = function_fk(fk_input2, K2)\n",
        "  # 6. XOR kết quả f_k với nửa trái hiện tại (L2 = R1)\n",
        "  L3 = xor(L2, fk_result2)\n",
        "  R3 = R2 # Nửa phải giữ nguyên (R3 = L1)\n",
        "\n",
        "  # --- Kết hợp và Hoán vị cuối cùng ---\n",
        "  # 7. Kết hợp L3 và R3\n",
        "  combined_final = L3 + R3\n",
        "  # 8. Áp dụng hoán vị ngược IP^-1\n",
        "  ciphertext_8bit = permute(combined_final, IP_inv)\n",
        "\n",
        "  return ciphertext_8bit\n",
        "\n",
        "# --- Ví dụ sử dụng ---\n",
        "plaintext = \"10101010\"\n",
        "key = \"1010000010\"\n",
        "\n",
        "try:\n",
        "    k1, k2 = generate_keys(key)\n",
        "    print(f\"Khóa ban đầu: {key}\")\n",
        "    print(f\"Khóa con K1: {k1}\")\n",
        "    print(f\"Khóa con K2: {k2}\")\n",
        "\n",
        "    ciphertext = encrypt(plaintext, key)\n",
        "    print(f\"\\nPlaintext : {plaintext}\")\n",
        "    print(f\"Ciphertext: {ciphertext}\")\n",
        "\n",
        "    # Đối chiếu: Nếu bạn có một cặp plaintext/ciphertext đã biết\n",
        "    # known_plaintext = \"...\"\n",
        "    # known_ciphertext = \"...\"\n",
        "    # calculated_ciphertext = encrypt(known_plaintext, key)\n",
        "    # assert calculated_ciphertext == known_ciphertext\n",
        "    # print(\"Đối chiếu thành công!\")\n",
        "\n",
        "except ValueError as e:\n",
        "    print(f\"Lỗi: {e}\")"
      ]
    },
    {
      "cell_type": "code",
      "source": [
        "%%writefile sdes.py\n",
        "# -*- coding: utf-8 -*-\n",
        "# --- Các bảng hoán vị và S-Box cố định ---\n",
        "P10 = (3, 5, 2, 7, 4, 10, 1, 9, 8, 6)\n",
        "P8  = (6, 3, 7, 4, 8, 5, 10, 9)\n",
        "P4  = (2, 4, 3, 1)\n",
        "\n",
        "IP     = (2, 6, 3, 1, 4, 8, 5, 7)\n",
        "IP_INV = (4, 1, 3, 5, 7, 2, 8, 6)\n",
        "\n",
        "EP = (4, 1, 2, 3, 2, 3, 4, 1)\n",
        "\n",
        "S0 = [\n",
        "    [1,0,3,2],\n",
        "    [3,2,1,0],\n",
        "    [0,2,1,3],\n",
        "    [3,1,3,2]\n",
        "]\n",
        "S1 = [\n",
        "    [0,1,2,3],\n",
        "    [2,0,1,3],\n",
        "    [3,0,1,0],\n",
        "    [2,1,0,3]\n",
        "]\n",
        "\n",
        "def permute(bits, table):\n",
        "    return ''.join(bits[i-1] for i in table)\n",
        "\n",
        "def left_shift(bits, n):\n",
        "    L, R = bits[:5], bits[5:]\n",
        "    return L[n:]+L[:n] + R[n:]+R[:n]\n",
        "\n",
        "def xor(a, b):\n",
        "    return ''.join(str(int(x)^int(y)) for x,y in zip(a,b))\n",
        "\n",
        "def bits_to_int(bits):\n",
        "    return int(bits, 2)\n",
        "\n",
        "def int_to_bits(val, length):\n",
        "    return format(val, f'0{length}b')\n",
        "\n",
        "def generate_keys(key10):\n",
        "    if len(key10)!=10:\n",
        "        raise ValueError(\"Key phải 10 bit\")\n",
        "    p10 = permute(key10, P10)\n",
        "    ls1 = left_shift(p10, 1)\n",
        "    K1  = permute(ls1, P8)\n",
        "    ls2 = left_shift(ls1, 2)\n",
        "    K2  = permute(ls2, P8)\n",
        "    return K1, K2\n",
        "\n",
        "def sbox_lookup(bits, sbox):\n",
        "    row = bits_to_int(bits[0]+bits[3])\n",
        "    col = bits_to_int(bits[1]+bits[2])\n",
        "    return int_to_bits(sbox[row][col], 2)\n",
        "\n",
        "def function_fk(bits8, subkey):\n",
        "    L, R = bits8[:4], bits8[4:]\n",
        "    ep = permute(R, EP)\n",
        "    x  = xor(ep, subkey)\n",
        "    l2 = sbox_lookup(x[:4], S0)\n",
        "    r2 = sbox_lookup(x[4:],   S1)\n",
        "    return permute(l2+r2, P4)\n",
        "\n",
        "def encrypt(pt8, key10):\n",
        "    if len(pt8)!=8:\n",
        "        raise ValueError(\"Plaintext phải 8 bit\")\n",
        "    K1, K2 = generate_keys(key10)\n",
        "    ip      = permute(pt8, IP)\n",
        "    L, R    = ip[:4], ip[4:]\n",
        "    # Round 1\n",
        "    f1 = function_fk(L+R, K1)\n",
        "    L1 = xor(L, f1)\n",
        "    # Swap\n",
        "    L2, R2 = R, L1\n",
        "    # Round 2\n",
        "    f2 = function_fk(L2+R2, K2)\n",
        "    L3 = xor(L2, f2)\n",
        "    # Final\n",
        "    return permute(L3+R2, IP_INV)\n",
        "\n",
        "def decrypt(ct8, key10):\n",
        "    if len(ct8)!=8:\n",
        "        raise ValueError(\"Ciphertext phải 8 bit\")\n",
        "    K1, K2 = generate_keys(key10)\n",
        "    ip      = permute(ct8, IP)\n",
        "    L, R    = ip[:4], ip[4:]\n",
        "    # Round 1 với K2\n",
        "    f1 = function_fk(L+R, K2)\n",
        "    L1 = xor(L, f1)\n",
        "    # Swap\n",
        "    L2, R2 = R, L1\n",
        "    # Round 2 với K1\n",
        "    f2 = function_fk(L2+R2, K1)\n",
        "    L3 = xor(L2, f2)\n",
        "    # Final\n",
        "    return permute(L3+R2, IP_INV)\n"
      ],
      "metadata": {
        "colab": {
          "base_uri": "https://localhost:8080/"
        },
        "id": "6RttRBP9Cx0j",
        "outputId": "c238c581-4007-482f-9b14-319d87c2b4c9"
      },
      "execution_count": 6,
      "outputs": [
        {
          "output_type": "stream",
          "name": "stdout",
          "text": [
            "Overwriting sdes.py\n"
          ]
        }
      ]
    },
    {
      "cell_type": "code",
      "source": [
        "%%bash\n",
        "cat > test_sdes.py <<'EOF'\n",
        "import random\n",
        "import pytest\n",
        "from sdes import encrypt, decrypt\n",
        "\n",
        "@pytest.mark.parametrize(\"_\", range(10))\n",
        "def test_random_vectors(_):\n",
        "    plaintext = ''.join(random.choice('01') for _ in range(8))\n",
        "    key = ''.join(random.choice('01') for _ in range(10))\n",
        "    cipher = encrypt(plaintext, key)\n",
        "    assert decrypt(cipher, key) == plaintext\n",
        "EOF\n"
      ],
      "metadata": {
        "id": "SZ9Lxc9QC0z0"
      },
      "execution_count": 7,
      "outputs": []
    },
    {
      "cell_type": "code",
      "source": [
        "!pytest -q\n"
      ],
      "metadata": {
        "colab": {
          "base_uri": "https://localhost:8080/"
        },
        "id": "sWVHt2HXCezl",
        "outputId": "fef41a4a-0245-4180-f547-8a0b762a3bc2"
      },
      "execution_count": 8,
      "outputs": [
        {
          "output_type": "stream",
          "name": "stdout",
          "text": [
            "\u001b[32m.\u001b[0m\u001b[32m.\u001b[0m\u001b[32m.\u001b[0m\u001b[32m.\u001b[0m\u001b[32m.\u001b[0m\u001b[32m.\u001b[0m\u001b[32m.\u001b[0m\u001b[32m.\u001b[0m\u001b[32m.\u001b[0m\u001b[32m.\u001b[0m\u001b[32m                                                               [100%]\u001b[0m\n",
            "\u001b[32m\u001b[32m\u001b[1m10 passed\u001b[0m\u001b[32m in 0.07s\u001b[0m\u001b[0m\n"
          ]
        }
      ]
    },
    {
      "cell_type": "code",
      "source": [
        "%%writefile sdes.py\n",
        "# -*- coding: utf-8 -*-\n",
        "# --- Các bảng hoán vị và S-Box cố định ---\n",
        "P10 = (3, 5, 2, 7, 4, 10, 1, 9, 8, 6)\n",
        "P8  = (6, 3, 7, 4, 8, 5, 10, 9)\n",
        "P4  = (2, 4, 3, 1)\n",
        "\n",
        "IP     = (2, 6, 3, 1, 4, 8, 5, 7)\n",
        "IP_INV = (4, 1, 3, 5, 7, 2, 8, 6)\n",
        "\n",
        "EP = (4, 1, 2, 3, 2, 3, 4, 1)\n",
        "\n",
        "S0 = [\n",
        "    [1,0,3,2],\n",
        "    [3,2,1,0],\n",
        "    [0,2,1,3],\n",
        "    [3,1,3,2]\n",
        "]\n",
        "S1 = [\n",
        "    [0,1,2,3],\n",
        "    [2,0,1,3],\n",
        "    [3,0,1,0],\n",
        "    [2,1,0,3]\n",
        "]\n",
        "\n",
        "# --- Hàm tiện ích ---\n",
        "def permute(bits, table):\n",
        "    return ''.join(bits[i-1] for i in table)\n",
        "\n",
        "def left_shift(bits, n):\n",
        "    L, R = bits[:5], bits[5:]\n",
        "    return L[n:]+L[:n] + R[n:]+R[:n]\n",
        "\n",
        "def xor(a, b):\n",
        "    return ''.join(str(int(x)^int(y)) for x,y in zip(a,b))\n",
        "\n",
        "def bits_to_int(bits):\n",
        "    return int(bits, 2)\n",
        "\n",
        "def int_to_bits(val, length):\n",
        "    return format(val, f'0{length}b')\n",
        "\n",
        "# --- Sinh khóa ---\n",
        "def generate_keys(key10):\n",
        "    if len(key10)!=10:\n",
        "        raise ValueError(\"Key phải 10 bit\")\n",
        "    p10 = permute(key10, P10)\n",
        "    ls1 = left_shift(p10, 1)\n",
        "    K1  = permute(ls1, P8)\n",
        "    ls2 = left_shift(ls1, 2)\n",
        "    K2  = permute(ls2, P8)\n",
        "    return K1, K2\n",
        "\n",
        "# --- Feistel function ---\n",
        "def sbox_lookup(bits, sbox):\n",
        "    row = bits_to_int(bits[0]+bits[3])\n",
        "    col = bits_to_int(bits[1]+bits[2])\n",
        "    return int_to_bits(sbox[row][col], 2)\n",
        "\n",
        "def function_fk(bits8, subkey):\n",
        "    L, R = bits8[:4], bits8[4:]\n",
        "    ep = permute(R, EP)\n",
        "    x  = xor(ep, subkey)\n",
        "    l2 = sbox_lookup(x[:4], S0)\n",
        "    r2 = sbox_lookup(x[4:],   S1)\n",
        "    return permute(l2+r2, P4)\n",
        "\n",
        "# --- Encrypt ---\n",
        "def encrypt(pt8, key10):\n",
        "    if len(pt8)!=8:\n",
        "        raise ValueError(\"Plaintext phải 8 bit\")\n",
        "    K1, K2 = generate_keys(key10)\n",
        "    ip      = permute(pt8, IP)\n",
        "    L, R    = ip[:4], ip[4:]\n",
        "\n",
        "    # Round 1\n",
        "    f1 = function_fk(L+R, K1)\n",
        "    L1 = xor(L, f1)\n",
        "    # Swap\n",
        "    L2, R2 = R, L1\n",
        "    # Round 2\n",
        "    f2 = function_fk(L2+R2, K2)\n",
        "    L3 = xor(L2, f2)\n",
        "    # Final\n",
        "    return permute(L3+R2, IP_INV)\n",
        "\n",
        "# --- Decrypt (K2 trước, K1 sau) ---\n",
        "def decrypt(ct8, key10):\n",
        "    if len(ct8)!=8:\n",
        "        raise ValueError(\"Ciphertext phải 8 bit\")\n",
        "    K1, K2 = generate_keys(key10)\n",
        "    ip      = permute(ct8, IP)\n",
        "    L, R    = ip[:4], ip[4:]\n",
        "\n",
        "    # Round 1 với K2\n",
        "    f1 = function_fk(L+R, K2)\n",
        "    L1 = xor(L, f1)\n",
        "    # Swap\n",
        "    L2, R2 = R, L1\n",
        "    # Round 2 với K1\n",
        "    f2 = function_fk(L2+R2, K1)\n",
        "    L3 = xor(L2, f2)\n",
        "    # Final\n",
        "    return permute(L3+R2, IP_INV)\n"
      ],
      "metadata": {
        "colab": {
          "base_uri": "https://localhost:8080/"
        },
        "id": "wEt-WEUwB5kL",
        "outputId": "dd2f2fbd-56a0-4bb0-caf2-7f946f325046"
      },
      "execution_count": 3,
      "outputs": [
        {
          "output_type": "stream",
          "name": "stdout",
          "text": [
            "Writing sdes.py\n"
          ]
        }
      ]
    },
    {
      "cell_type": "code",
      "source": [
        "%%writefile mock_oracle.py\n",
        "from qiskit import QuantumCircuit\n",
        "\n",
        "def get_mock_oracle(n_qubits: int, target_index: int) -> QuantumCircuit:\n",
        "    \"\"\"\n",
        "    Trả về một oracle circuit trên `n_qubits`, thực hiện phase flip:\n",
        "      |target_index⟩ → -|target_index⟩\n",
        "    \"\"\"\n",
        "    qc = QuantumCircuit(n_qubits)\n",
        "    # 1. Chuẩn hóa: X lên tất cả qubit có bit = 0 trong target_index\n",
        "    bstr = format(target_index, f'0{n_qubits}b')\n",
        "    for i, bit in enumerate(bstr):\n",
        "        if bit == '0':\n",
        "            qc.x(i)\n",
        "    # 2. Multi-controlled Z (phase flip) trên |11…1⟩\n",
        "    qc.h(n_qubits-1)\n",
        "    qc.mcx(list(range(n_qubits-1)), n_qubits-1)\n",
        "    qc.h(n_qubits-1)\n",
        "    # 3. Khôi phục X\n",
        "    for i, bit in enumerate(bstr):\n",
        "        if bit == '0':\n",
        "            qc.x(i)\n",
        "    return qc\n"
      ],
      "metadata": {
        "colab": {
          "base_uri": "https://localhost:8080/"
        },
        "id": "2D7ok8AXMz61",
        "outputId": "ebac2efb-4d63-423c-ff7c-53e47d540b1c"
      },
      "execution_count": 2,
      "outputs": [
        {
          "output_type": "stream",
          "name": "stdout",
          "text": [
            "Writing mock_oracle.py\n"
          ]
        }
      ]
    },
    {
      "cell_type": "code",
      "source": [
        "%%writefile real_oracle.py\n",
        "from qiskit import QuantumCircuit, QuantumRegister\n",
        "from sdes import encrypt\n",
        "\n",
        "def build_sdes_subcircuit(key10: str) -> QuantumCircuit:\n",
        "    qc = QuantumCircuit(16, name=\"sdes_enc\")\n",
        "    for i in range(256):\n",
        "        pt_bits = format(i, '08b')\n",
        "        ct_bits = encrypt(pt_bits, key10)\n",
        "        ctrl_bits = [j for j, b in enumerate(pt_bits) if b == '1']\n",
        "        if ctrl_bits:\n",
        "            for j, b in enumerate(ct_bits):\n",
        "                if b == '1':\n",
        "                    qc.mcx(ctrl_bits, [8 + j])\n",
        "                    qc.x(8 + j)\n",
        "                    qc.mcx(ctrl_bits, [8 + j])\n",
        "                    qc.x(8 + j)\n",
        "    return qc\n",
        "\n",
        "def get_sdes_oracle(key10: str) -> QuantumCircuit:\n",
        "    target_ct = \"10100001\"\n",
        "\n",
        "    qr_pt = QuantumRegister(8, \"pt\")\n",
        "    qr_ct = QuantumRegister(8, \"ct\")\n",
        "    qr_flag = QuantumRegister(1, \"flag\")\n",
        "    qc = QuantumCircuit(qr_pt, qr_ct, qr_flag)\n",
        "\n",
        "    subcirc = build_sdes_subcircuit(key10)\n",
        "    qc.append(subcirc, qr_pt[:] + qr_ct[:])\n",
        "\n",
        "    for i, b in enumerate(target_ct):\n",
        "        if b == '0':\n",
        "            qc.x(qr_ct[i])\n",
        "\n",
        "    qc.mcx(qr_ct[:], qr_flag[0])\n",
        "\n",
        "    for i, b in enumerate(target_ct):\n",
        "        if b == '0':\n",
        "            qc.x(qr_ct[i])\n",
        "\n",
        "    qc.append(subcirc.inverse(), qr_pt[:] + qr_ct[:])\n",
        "\n",
        "    return qc\n"
      ],
      "metadata": {
        "colab": {
          "base_uri": "https://localhost:8080/"
        },
        "id": "yxtg2DyKRTiq",
        "outputId": "c6076397-b932-4b54-8652-156f6f3b5b98"
      },
      "execution_count": 13,
      "outputs": [
        {
          "output_type": "stream",
          "name": "stdout",
          "text": [
            "Overwriting real_oracle.py\n"
          ]
        }
      ]
    },
    {
      "cell_type": "code",
      "source": [
        "from mock_oracle import get_mock_oracle\n",
        "qc1 = get_mock_oracle(3, target_index=5)\n",
        "#qc1.draw('mpl')\n",
        "print(qc1.draw(output='text'))\n",
        "\n",
        "from real_oracle import get_sdes_oracle\n",
        "qc2 = get_sdes_oracle(\"1010000010\")\n",
        "#qc2.draw(\"mpl\")\n",
        "print(qc2.draw(output='text'))\n"
      ],
      "metadata": {
        "colab": {
          "base_uri": "https://localhost:8080/"
        },
        "id": "qAcafmnAM-Zg",
        "outputId": "cffff5c4-6ffe-45c7-f7c6-99b2437ad507"
      },
      "execution_count": 14,
      "outputs": [
        {
          "output_type": "stream",
          "name": "stdout",
          "text": [
            "                    \n",
            "q_0: ───────■───────\n",
            "     ┌───┐  │  ┌───┐\n",
            "q_1: ┤ X ├──■──┤ X ├\n",
            "     ├───┤┌─┴─┐├───┤\n",
            "q_2: ┤ H ├┤ X ├┤ H ├\n",
            "     └───┘└───┘└───┘\n",
            "      ┌────────────┐               ┌───────────────┐\n",
            "pt_0: ┤0           ├───────────────┤0              ├\n",
            "      │            │               │               │\n",
            "pt_1: ┤1           ├───────────────┤1              ├\n",
            "      │            │               │               │\n",
            "pt_2: ┤2           ├───────────────┤2              ├\n",
            "      │            │               │               │\n",
            "pt_3: ┤3           ├───────────────┤3              ├\n",
            "      │            │               │               │\n",
            "pt_4: ┤4           ├───────────────┤4              ├\n",
            "      │            │               │               │\n",
            "pt_5: ┤5           ├───────────────┤5              ├\n",
            "      │            │               │               │\n",
            "pt_6: ┤6           ├───────────────┤6              ├\n",
            "      │            │               │               │\n",
            "pt_7: ┤7           ├───────────────┤7              ├\n",
            "      │   sdes_enc │               │   sdes_enc_dg │\n",
            "ct_0: ┤8           ├───────■───────┤8              ├\n",
            "      │            │┌───┐  │  ┌───┐│               │\n",
            "ct_1: ┤9           ├┤ X ├──■──┤ X ├┤9              ├\n",
            "      │            │└───┘  │  └───┘│               │\n",
            "ct_2: ┤10          ├───────■───────┤10             ├\n",
            "      │            │┌───┐  │  ┌───┐│               │\n",
            "ct_3: ┤11          ├┤ X ├──■──┤ X ├┤11             ├\n",
            "      │            │├───┤  │  ├───┤│               │\n",
            "ct_4: ┤12          ├┤ X ├──■──┤ X ├┤12             ├\n",
            "      │            │├───┤  │  ├───┤│               │\n",
            "ct_5: ┤13          ├┤ X ├──■──┤ X ├┤13             ├\n",
            "      │            │├───┤  │  ├───┤│               │\n",
            "ct_6: ┤14          ├┤ X ├──■──┤ X ├┤14             ├\n",
            "      │            │└───┘  │  └───┘│               │\n",
            "ct_7: ┤15          ├───────■───────┤15             ├\n",
            "      └────────────┘     ┌─┴─┐     └───────────────┘\n",
            "flag: ───────────────────┤ X ├──────────────────────\n",
            "                         └───┘                      \n"
          ]
        }
      ]
    },
    {
      "cell_type": "code",
      "source": [
        "import sys\n",
        "!{sys.executable} -m pip install pylatexenc"
      ],
      "metadata": {
        "colab": {
          "base_uri": "https://localhost:8080/"
        },
        "id": "MrECM98WODHN",
        "outputId": "581e6868-13ff-456b-fea9-46bf8b40e239"
      },
      "execution_count": 44,
      "outputs": [
        {
          "output_type": "stream",
          "name": "stdout",
          "text": [
            "Requirement already satisfied: pylatexenc in /usr/local/lib/python3.11/dist-packages (2.10)\n"
          ]
        }
      ]
    },
    {
      "cell_type": "code",
      "source": [
        "pip install pylatexenc\n"
      ],
      "metadata": {
        "colab": {
          "base_uri": "https://localhost:8080/"
        },
        "id": "5vmqGZsuNiA8",
        "outputId": "2f7a7da8-d6e1-431a-d8a8-619f5b47f580"
      },
      "execution_count": 45,
      "outputs": [
        {
          "output_type": "stream",
          "name": "stdout",
          "text": [
            "Requirement already satisfied: pylatexenc in /usr/local/lib/python3.11/dist-packages (2.10)\n"
          ]
        }
      ]
    }
  ]
}